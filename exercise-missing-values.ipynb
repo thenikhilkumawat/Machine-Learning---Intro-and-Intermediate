{
 "cells": [
  {
   "cell_type": "markdown",
   "id": "9e837258",
   "metadata": {
    "papermill": {
     "duration": 0.013491,
     "end_time": "2023-06-29T15:01:38.886192",
     "exception": false,
     "start_time": "2023-06-29T15:01:38.872701",
     "status": "completed"
    },
    "tags": []
   },
   "source": [
    "**This notebook is an exercise in the [Intermediate Machine Learning](https://www.kaggle.com/learn/intermediate-machine-learning) course.  You can reference the tutorial at [this link](https://www.kaggle.com/alexisbcook/missing-values).**\n",
    "\n",
    "---\n"
   ]
  },
  {
   "cell_type": "markdown",
   "id": "e0a91cdd",
   "metadata": {
    "papermill": {
     "duration": 0.010825,
     "end_time": "2023-06-29T15:01:38.908410",
     "exception": false,
     "start_time": "2023-06-29T15:01:38.897585",
     "status": "completed"
    },
    "tags": []
   },
   "source": [
    "Now it's your turn to test your new knowledge of **missing values** handling. You'll probably find it makes a big difference.\n",
    "\n",
    "# Setup\n",
    "\n",
    "The questions will give you feedback on your work. Run the following cell to set up the feedback system."
   ]
  },
  {
   "cell_type": "code",
   "execution_count": 1,
   "id": "9851be18",
   "metadata": {
    "execution": {
     "iopub.execute_input": "2023-06-29T15:01:38.933221Z",
     "iopub.status.busy": "2023-06-29T15:01:38.932420Z",
     "iopub.status.idle": "2023-06-29T15:01:38.984045Z",
     "shell.execute_reply": "2023-06-29T15:01:38.982754Z"
    },
    "papermill": {
     "duration": 0.067189,
     "end_time": "2023-06-29T15:01:38.986735",
     "exception": false,
     "start_time": "2023-06-29T15:01:38.919546",
     "status": "completed"
    },
    "tags": []
   },
   "outputs": [
    {
     "name": "stdout",
     "output_type": "stream",
     "text": [
      "Setup Complete\n"
     ]
    }
   ],
   "source": [
    "# Set up code checking\n",
    "import os\n",
    "if not os.path.exists(\"../input/train.csv\"):\n",
    "    os.symlink(\"../input/home-data-for-ml-course/train.csv\", \"../input/train.csv\")  \n",
    "    os.symlink(\"../input/home-data-for-ml-course/test.csv\", \"../input/test.csv\") \n",
    "from learntools.core import binder\n",
    "binder.bind(globals())\n",
    "from learntools.ml_intermediate.ex2 import *\n",
    "print(\"Setup Complete\")"
   ]
  },
  {
   "cell_type": "markdown",
   "id": "c29808b2",
   "metadata": {
    "papermill": {
     "duration": 0.011134,
     "end_time": "2023-06-29T15:01:39.009428",
     "exception": false,
     "start_time": "2023-06-29T15:01:38.998294",
     "status": "completed"
    },
    "tags": []
   },
   "source": [
    "In this exercise, you will work with data from the [Housing Prices Competition for Kaggle Learn Users](https://www.kaggle.com/c/home-data-for-ml-course). \n",
    "\n",
    "![Ames Housing dataset image](https://storage.googleapis.com/kaggle-media/learn/images/lTJVG4e.png)\n",
    "\n",
    "Run the next code cell without changes to load the training and validation sets in `X_train`, `X_valid`, `y_train`, and `y_valid`.  The test set is loaded in `X_test`."
   ]
  },
  {
   "cell_type": "code",
   "execution_count": 2,
   "id": "9387043d",
   "metadata": {
    "execution": {
     "iopub.execute_input": "2023-06-29T15:01:39.034263Z",
     "iopub.status.busy": "2023-06-29T15:01:39.033545Z",
     "iopub.status.idle": "2023-06-29T15:01:40.553444Z",
     "shell.execute_reply": "2023-06-29T15:01:40.552534Z"
    },
    "papermill": {
     "duration": 1.535004,
     "end_time": "2023-06-29T15:01:40.555935",
     "exception": false,
     "start_time": "2023-06-29T15:01:39.020931",
     "status": "completed"
    },
    "tags": []
   },
   "outputs": [],
   "source": [
    "import pandas as pd\n",
    "from sklearn.model_selection import train_test_split\n",
    "\n",
    "# Read the data\n",
    "X_full = pd.read_csv('../input/train.csv', index_col='Id')\n",
    "X_test_full = pd.read_csv('../input/test.csv', index_col='Id')\n",
    "\n",
    "# Remove rows with missing target, separate target from predictors\n",
    "X_full.dropna(axis=0, subset=['SalePrice'], inplace=True)\n",
    "y = X_full.SalePrice\n",
    "X_full.drop(['SalePrice'], axis=1, inplace=True)\n",
    "\n",
    "# To keep things simple, we'll use only numerical predictors\n",
    "X = X_full.select_dtypes(exclude=['object'])\n",
    "X_test = X_test_full.select_dtypes(exclude=['object'])\n",
    "\n",
    "# Break off validation set from training data\n",
    "X_train, X_valid, y_train, y_valid = train_test_split(X, y, train_size=0.8, test_size=0.2,\n",
    "                                                      random_state=0)"
   ]
  },
  {
   "cell_type": "markdown",
   "id": "11dbed70",
   "metadata": {
    "papermill": {
     "duration": 0.011102,
     "end_time": "2023-06-29T15:01:40.579245",
     "exception": false,
     "start_time": "2023-06-29T15:01:40.568143",
     "status": "completed"
    },
    "tags": []
   },
   "source": [
    "Use the next code cell to print the first five rows of the data."
   ]
  },
  {
   "cell_type": "code",
   "execution_count": 3,
   "id": "c6894e12",
   "metadata": {
    "execution": {
     "iopub.execute_input": "2023-06-29T15:01:40.604382Z",
     "iopub.status.busy": "2023-06-29T15:01:40.603288Z",
     "iopub.status.idle": "2023-06-29T15:01:40.638652Z",
     "shell.execute_reply": "2023-06-29T15:01:40.637899Z"
    },
    "papermill": {
     "duration": 0.050509,
     "end_time": "2023-06-29T15:01:40.641128",
     "exception": false,
     "start_time": "2023-06-29T15:01:40.590619",
     "status": "completed"
    },
    "tags": []
   },
   "outputs": [
    {
     "data": {
      "text/html": [
       "<div>\n",
       "<style scoped>\n",
       "    .dataframe tbody tr th:only-of-type {\n",
       "        vertical-align: middle;\n",
       "    }\n",
       "\n",
       "    .dataframe tbody tr th {\n",
       "        vertical-align: top;\n",
       "    }\n",
       "\n",
       "    .dataframe thead th {\n",
       "        text-align: right;\n",
       "    }\n",
       "</style>\n",
       "<table border=\"1\" class=\"dataframe\">\n",
       "  <thead>\n",
       "    <tr style=\"text-align: right;\">\n",
       "      <th></th>\n",
       "      <th>MSSubClass</th>\n",
       "      <th>LotFrontage</th>\n",
       "      <th>LotArea</th>\n",
       "      <th>OverallQual</th>\n",
       "      <th>OverallCond</th>\n",
       "      <th>YearBuilt</th>\n",
       "      <th>YearRemodAdd</th>\n",
       "      <th>MasVnrArea</th>\n",
       "      <th>BsmtFinSF1</th>\n",
       "      <th>BsmtFinSF2</th>\n",
       "      <th>...</th>\n",
       "      <th>GarageArea</th>\n",
       "      <th>WoodDeckSF</th>\n",
       "      <th>OpenPorchSF</th>\n",
       "      <th>EnclosedPorch</th>\n",
       "      <th>3SsnPorch</th>\n",
       "      <th>ScreenPorch</th>\n",
       "      <th>PoolArea</th>\n",
       "      <th>MiscVal</th>\n",
       "      <th>MoSold</th>\n",
       "      <th>YrSold</th>\n",
       "    </tr>\n",
       "    <tr>\n",
       "      <th>Id</th>\n",
       "      <th></th>\n",
       "      <th></th>\n",
       "      <th></th>\n",
       "      <th></th>\n",
       "      <th></th>\n",
       "      <th></th>\n",
       "      <th></th>\n",
       "      <th></th>\n",
       "      <th></th>\n",
       "      <th></th>\n",
       "      <th></th>\n",
       "      <th></th>\n",
       "      <th></th>\n",
       "      <th></th>\n",
       "      <th></th>\n",
       "      <th></th>\n",
       "      <th></th>\n",
       "      <th></th>\n",
       "      <th></th>\n",
       "      <th></th>\n",
       "      <th></th>\n",
       "    </tr>\n",
       "  </thead>\n",
       "  <tbody>\n",
       "    <tr>\n",
       "      <th>619</th>\n",
       "      <td>20</td>\n",
       "      <td>90.0</td>\n",
       "      <td>11694</td>\n",
       "      <td>9</td>\n",
       "      <td>5</td>\n",
       "      <td>2007</td>\n",
       "      <td>2007</td>\n",
       "      <td>452.0</td>\n",
       "      <td>48</td>\n",
       "      <td>0</td>\n",
       "      <td>...</td>\n",
       "      <td>774</td>\n",
       "      <td>0</td>\n",
       "      <td>108</td>\n",
       "      <td>0</td>\n",
       "      <td>0</td>\n",
       "      <td>260</td>\n",
       "      <td>0</td>\n",
       "      <td>0</td>\n",
       "      <td>7</td>\n",
       "      <td>2007</td>\n",
       "    </tr>\n",
       "    <tr>\n",
       "      <th>871</th>\n",
       "      <td>20</td>\n",
       "      <td>60.0</td>\n",
       "      <td>6600</td>\n",
       "      <td>5</td>\n",
       "      <td>5</td>\n",
       "      <td>1962</td>\n",
       "      <td>1962</td>\n",
       "      <td>0.0</td>\n",
       "      <td>0</td>\n",
       "      <td>0</td>\n",
       "      <td>...</td>\n",
       "      <td>308</td>\n",
       "      <td>0</td>\n",
       "      <td>0</td>\n",
       "      <td>0</td>\n",
       "      <td>0</td>\n",
       "      <td>0</td>\n",
       "      <td>0</td>\n",
       "      <td>0</td>\n",
       "      <td>8</td>\n",
       "      <td>2009</td>\n",
       "    </tr>\n",
       "    <tr>\n",
       "      <th>93</th>\n",
       "      <td>30</td>\n",
       "      <td>80.0</td>\n",
       "      <td>13360</td>\n",
       "      <td>5</td>\n",
       "      <td>7</td>\n",
       "      <td>1921</td>\n",
       "      <td>2006</td>\n",
       "      <td>0.0</td>\n",
       "      <td>713</td>\n",
       "      <td>0</td>\n",
       "      <td>...</td>\n",
       "      <td>432</td>\n",
       "      <td>0</td>\n",
       "      <td>0</td>\n",
       "      <td>44</td>\n",
       "      <td>0</td>\n",
       "      <td>0</td>\n",
       "      <td>0</td>\n",
       "      <td>0</td>\n",
       "      <td>8</td>\n",
       "      <td>2009</td>\n",
       "    </tr>\n",
       "    <tr>\n",
       "      <th>818</th>\n",
       "      <td>20</td>\n",
       "      <td>NaN</td>\n",
       "      <td>13265</td>\n",
       "      <td>8</td>\n",
       "      <td>5</td>\n",
       "      <td>2002</td>\n",
       "      <td>2002</td>\n",
       "      <td>148.0</td>\n",
       "      <td>1218</td>\n",
       "      <td>0</td>\n",
       "      <td>...</td>\n",
       "      <td>857</td>\n",
       "      <td>150</td>\n",
       "      <td>59</td>\n",
       "      <td>0</td>\n",
       "      <td>0</td>\n",
       "      <td>0</td>\n",
       "      <td>0</td>\n",
       "      <td>0</td>\n",
       "      <td>7</td>\n",
       "      <td>2008</td>\n",
       "    </tr>\n",
       "    <tr>\n",
       "      <th>303</th>\n",
       "      <td>20</td>\n",
       "      <td>118.0</td>\n",
       "      <td>13704</td>\n",
       "      <td>7</td>\n",
       "      <td>5</td>\n",
       "      <td>2001</td>\n",
       "      <td>2002</td>\n",
       "      <td>150.0</td>\n",
       "      <td>0</td>\n",
       "      <td>0</td>\n",
       "      <td>...</td>\n",
       "      <td>843</td>\n",
       "      <td>468</td>\n",
       "      <td>81</td>\n",
       "      <td>0</td>\n",
       "      <td>0</td>\n",
       "      <td>0</td>\n",
       "      <td>0</td>\n",
       "      <td>0</td>\n",
       "      <td>1</td>\n",
       "      <td>2006</td>\n",
       "    </tr>\n",
       "  </tbody>\n",
       "</table>\n",
       "<p>5 rows × 36 columns</p>\n",
       "</div>"
      ],
      "text/plain": [
       "     MSSubClass  LotFrontage  LotArea  OverallQual  OverallCond  YearBuilt  \\\n",
       "Id                                                                           \n",
       "619          20         90.0    11694            9            5       2007   \n",
       "871          20         60.0     6600            5            5       1962   \n",
       "93           30         80.0    13360            5            7       1921   \n",
       "818          20          NaN    13265            8            5       2002   \n",
       "303          20        118.0    13704            7            5       2001   \n",
       "\n",
       "     YearRemodAdd  MasVnrArea  BsmtFinSF1  BsmtFinSF2  ...  GarageArea  \\\n",
       "Id                                                     ...               \n",
       "619          2007       452.0          48           0  ...         774   \n",
       "871          1962         0.0           0           0  ...         308   \n",
       "93           2006         0.0         713           0  ...         432   \n",
       "818          2002       148.0        1218           0  ...         857   \n",
       "303          2002       150.0           0           0  ...         843   \n",
       "\n",
       "     WoodDeckSF  OpenPorchSF  EnclosedPorch  3SsnPorch  ScreenPorch  PoolArea  \\\n",
       "Id                                                                              \n",
       "619           0          108              0          0          260         0   \n",
       "871           0            0              0          0            0         0   \n",
       "93            0            0             44          0            0         0   \n",
       "818         150           59              0          0            0         0   \n",
       "303         468           81              0          0            0         0   \n",
       "\n",
       "     MiscVal  MoSold  YrSold  \n",
       "Id                            \n",
       "619        0       7    2007  \n",
       "871        0       8    2009  \n",
       "93         0       8    2009  \n",
       "818        0       7    2008  \n",
       "303        0       1    2006  \n",
       "\n",
       "[5 rows x 36 columns]"
      ]
     },
     "execution_count": 3,
     "metadata": {},
     "output_type": "execute_result"
    }
   ],
   "source": [
    "X_train.head()"
   ]
  },
  {
   "cell_type": "markdown",
   "id": "f5fcecc6",
   "metadata": {
    "papermill": {
     "duration": 0.011669,
     "end_time": "2023-06-29T15:01:40.664751",
     "exception": false,
     "start_time": "2023-06-29T15:01:40.653082",
     "status": "completed"
    },
    "tags": []
   },
   "source": [
    "You can already see a few missing values in the first several rows.  In the next step, you'll obtain a more comprehensive understanding of the missing values in the dataset.\n",
    "\n",
    "# Step 1: Preliminary investigation\n",
    "\n",
    "Run the code cell below without changes."
   ]
  },
  {
   "cell_type": "code",
   "execution_count": 4,
   "id": "5e0c077b",
   "metadata": {
    "execution": {
     "iopub.execute_input": "2023-06-29T15:01:40.690893Z",
     "iopub.status.busy": "2023-06-29T15:01:40.690314Z",
     "iopub.status.idle": "2023-06-29T15:01:40.697728Z",
     "shell.execute_reply": "2023-06-29T15:01:40.696544Z"
    },
    "papermill": {
     "duration": 0.023092,
     "end_time": "2023-06-29T15:01:40.699811",
     "exception": false,
     "start_time": "2023-06-29T15:01:40.676719",
     "status": "completed"
    },
    "tags": []
   },
   "outputs": [
    {
     "name": "stdout",
     "output_type": "stream",
     "text": [
      "(1168, 36)\n",
      "LotFrontage    212\n",
      "MasVnrArea       6\n",
      "GarageYrBlt     58\n",
      "dtype: int64\n"
     ]
    }
   ],
   "source": [
    "# Shape of training data (num_rows, num_columns)\n",
    "print(X_train.shape)\n",
    "\n",
    "# Number of missing values in each column of training data\n",
    "missing_val_count_by_column = (X_train.isnull().sum())\n",
    "print(missing_val_count_by_column[missing_val_count_by_column > 0])"
   ]
  },
  {
   "cell_type": "markdown",
   "id": "907cf869",
   "metadata": {
    "papermill": {
     "duration": 0.011723,
     "end_time": "2023-06-29T15:01:40.723492",
     "exception": false,
     "start_time": "2023-06-29T15:01:40.711769",
     "status": "completed"
    },
    "tags": []
   },
   "source": [
    "### Part A\n",
    "\n",
    "Use the above output to answer the questions below."
   ]
  },
  {
   "cell_type": "code",
   "execution_count": 5,
   "id": "0ec52b54",
   "metadata": {
    "execution": {
     "iopub.execute_input": "2023-06-29T15:01:40.750095Z",
     "iopub.status.busy": "2023-06-29T15:01:40.749677Z",
     "iopub.status.idle": "2023-06-29T15:01:40.758828Z",
     "shell.execute_reply": "2023-06-29T15:01:40.757750Z"
    },
    "papermill": {
     "duration": 0.024958,
     "end_time": "2023-06-29T15:01:40.761051",
     "exception": false,
     "start_time": "2023-06-29T15:01:40.736093",
     "status": "completed"
    },
    "tags": []
   },
   "outputs": [
    {
     "data": {
      "application/javascript": [
       "parent.postMessage({\"jupyterEvent\": \"custom.exercise_interaction\", \"data\": {\"outcomeType\": 1, \"valueTowardsCompletion\": 1.0, \"interactionType\": 1, \"questionType\": 1, \"questionId\": \"1.1_InvestigateEquality\", \"learnToolsVersion\": \"0.3.4\", \"failureMessage\": \"\", \"exceptionClass\": \"\", \"trace\": \"\"}}, \"*\")"
      ],
      "text/plain": [
       "<IPython.core.display.Javascript object>"
      ]
     },
     "metadata": {},
     "output_type": "display_data"
    },
    {
     "data": {
      "text/markdown": [
       "<span style=\"color:#33cc33\">Correct</span>"
      ],
      "text/plain": [
       "Correct"
      ]
     },
     "metadata": {},
     "output_type": "display_data"
    }
   ],
   "source": [
    "# Fill in the line below: How many rows are in the training data?\n",
    "num_rows = 1168\n",
    "\n",
    "# Fill in the line below: How many columns in the training data\n",
    "# have missing values?\n",
    "num_cols_with_missing = 3\n",
    "\n",
    "# Fill in the line below: How many missing entries are contained in \n",
    "# all of the training data?\n",
    "tot_missing = 212+6+58\n",
    "\n",
    "# Check your answers\n",
    "step_1.a.check()"
   ]
  },
  {
   "cell_type": "code",
   "execution_count": 6,
   "id": "2f06b949",
   "metadata": {
    "execution": {
     "iopub.execute_input": "2023-06-29T15:01:40.787421Z",
     "iopub.status.busy": "2023-06-29T15:01:40.787018Z",
     "iopub.status.idle": "2023-06-29T15:01:40.792083Z",
     "shell.execute_reply": "2023-06-29T15:01:40.790637Z"
    },
    "papermill": {
     "duration": 0.02099,
     "end_time": "2023-06-29T15:01:40.794522",
     "exception": false,
     "start_time": "2023-06-29T15:01:40.773532",
     "status": "completed"
    },
    "tags": []
   },
   "outputs": [],
   "source": [
    "# Lines below will give you a hint or solution code\n",
    "#step_1.a.hint()\n",
    "#step_1.a.solution()"
   ]
  },
  {
   "cell_type": "markdown",
   "id": "6a7408f9",
   "metadata": {
    "papermill": {
     "duration": 0.011889,
     "end_time": "2023-06-29T15:01:40.818973",
     "exception": false,
     "start_time": "2023-06-29T15:01:40.807084",
     "status": "completed"
    },
    "tags": []
   },
   "source": [
    "### Part B\n",
    "Considering your answers above, what do you think is likely the best approach to dealing with the missing values?"
   ]
  },
  {
   "cell_type": "code",
   "execution_count": 7,
   "id": "b64679d6",
   "metadata": {
    "execution": {
     "iopub.execute_input": "2023-06-29T15:01:40.845622Z",
     "iopub.status.busy": "2023-06-29T15:01:40.844968Z",
     "iopub.status.idle": "2023-06-29T15:01:40.853173Z",
     "shell.execute_reply": "2023-06-29T15:01:40.852327Z"
    },
    "papermill": {
     "duration": 0.023902,
     "end_time": "2023-06-29T15:01:40.855218",
     "exception": false,
     "start_time": "2023-06-29T15:01:40.831316",
     "status": "completed"
    },
    "tags": []
   },
   "outputs": [
    {
     "data": {
      "application/javascript": [
       "parent.postMessage({\"jupyterEvent\": \"custom.exercise_interaction\", \"data\": {\"outcomeType\": 1, \"valueTowardsCompletion\": 1.0, \"interactionType\": 1, \"questionType\": 4, \"questionId\": \"1.2_InvestigateThought\", \"learnToolsVersion\": \"0.3.4\", \"failureMessage\": \"\", \"exceptionClass\": \"\", \"trace\": \"\"}}, \"*\")"
      ],
      "text/plain": [
       "<IPython.core.display.Javascript object>"
      ]
     },
     "metadata": {},
     "output_type": "display_data"
    },
    {
     "data": {
      "text/markdown": [
       "<span style=\"color:#33cc33\">Correct:</span> \n",
       "\n",
       "Since there are relatively few missing entries in the data (the column with the greatest percentage of missing values is missing less than 20% of its entries), we can expect that dropping columns is unlikely to yield good results.  This is because we'd be throwing away a lot of valuable data, and so imputation will likely perform better."
      ],
      "text/plain": [
       "Correct: \n",
       "\n",
       "Since there are relatively few missing entries in the data (the column with the greatest percentage of missing values is missing less than 20% of its entries), we can expect that dropping columns is unlikely to yield good results.  This is because we'd be throwing away a lot of valuable data, and so imputation will likely perform better."
      ]
     },
     "metadata": {},
     "output_type": "display_data"
    }
   ],
   "source": [
    "# Check your answer (Run this code cell to receive credit!)\n",
    "step_1.b.check()"
   ]
  },
  {
   "cell_type": "code",
   "execution_count": 8,
   "id": "e2998459",
   "metadata": {
    "execution": {
     "iopub.execute_input": "2023-06-29T15:01:40.882405Z",
     "iopub.status.busy": "2023-06-29T15:01:40.882019Z",
     "iopub.status.idle": "2023-06-29T15:01:40.886803Z",
     "shell.execute_reply": "2023-06-29T15:01:40.885816Z"
    },
    "papermill": {
     "duration": 0.021031,
     "end_time": "2023-06-29T15:01:40.889223",
     "exception": false,
     "start_time": "2023-06-29T15:01:40.868192",
     "status": "completed"
    },
    "tags": []
   },
   "outputs": [],
   "source": [
    "#step_1.b.hint()"
   ]
  },
  {
   "cell_type": "markdown",
   "id": "2c2a6b22",
   "metadata": {
    "papermill": {
     "duration": 0.012722,
     "end_time": "2023-06-29T15:01:40.914668",
     "exception": false,
     "start_time": "2023-06-29T15:01:40.901946",
     "status": "completed"
    },
    "tags": []
   },
   "source": [
    "To compare different approaches to dealing with missing values, you'll use the same `score_dataset()` function from the tutorial.  This function reports the [mean absolute error](https://en.wikipedia.org/wiki/Mean_absolute_error) (MAE) from a random forest model."
   ]
  },
  {
   "cell_type": "code",
   "execution_count": 9,
   "id": "a29c79b4",
   "metadata": {
    "execution": {
     "iopub.execute_input": "2023-06-29T15:01:40.941698Z",
     "iopub.status.busy": "2023-06-29T15:01:40.941300Z",
     "iopub.status.idle": "2023-06-29T15:01:41.323659Z",
     "shell.execute_reply": "2023-06-29T15:01:41.322521Z"
    },
    "papermill": {
     "duration": 0.399035,
     "end_time": "2023-06-29T15:01:41.326430",
     "exception": false,
     "start_time": "2023-06-29T15:01:40.927395",
     "status": "completed"
    },
    "tags": []
   },
   "outputs": [],
   "source": [
    "from sklearn.ensemble import RandomForestRegressor\n",
    "from sklearn.metrics import mean_absolute_error\n",
    "\n",
    "# Function for comparing different approaches\n",
    "def score_dataset(X_train, X_valid, y_train, y_valid):\n",
    "    model = RandomForestRegressor(n_estimators=100, random_state=0)\n",
    "    model.fit(X_train, y_train)\n",
    "    preds = model.predict(X_valid)\n",
    "    return mean_absolute_error(y_valid, preds)"
   ]
  },
  {
   "cell_type": "markdown",
   "id": "66b13140",
   "metadata": {
    "papermill": {
     "duration": 0.0123,
     "end_time": "2023-06-29T15:01:41.351689",
     "exception": false,
     "start_time": "2023-06-29T15:01:41.339389",
     "status": "completed"
    },
    "tags": []
   },
   "source": [
    "# Step 2: Drop columns with missing values\n",
    "\n",
    "In this step, you'll preprocess the data in `X_train` and `X_valid` to remove columns with missing values.  Set the preprocessed DataFrames to `reduced_X_train` and `reduced_X_valid`, respectively.  "
   ]
  },
  {
   "cell_type": "code",
   "execution_count": 10,
   "id": "db7619d5",
   "metadata": {
    "execution": {
     "iopub.execute_input": "2023-06-29T15:01:41.378785Z",
     "iopub.status.busy": "2023-06-29T15:01:41.378373Z",
     "iopub.status.idle": "2023-06-29T15:01:41.412474Z",
     "shell.execute_reply": "2023-06-29T15:01:41.411344Z"
    },
    "papermill": {
     "duration": 0.050352,
     "end_time": "2023-06-29T15:01:41.414671",
     "exception": false,
     "start_time": "2023-06-29T15:01:41.364319",
     "status": "completed"
    },
    "tags": []
   },
   "outputs": [
    {
     "data": {
      "application/javascript": [
       "parent.postMessage({\"jupyterEvent\": \"custom.exercise_interaction\", \"data\": {\"outcomeType\": 1, \"valueTowardsCompletion\": 1.0, \"interactionType\": 1, \"questionType\": 2, \"questionId\": \"2_DropMissing\", \"learnToolsVersion\": \"0.3.4\", \"failureMessage\": \"\", \"exceptionClass\": \"\", \"trace\": \"\"}}, \"*\")"
      ],
      "text/plain": [
       "<IPython.core.display.Javascript object>"
      ]
     },
     "metadata": {},
     "output_type": "display_data"
    },
    {
     "data": {
      "text/markdown": [
       "<span style=\"color:#33cc33\">Correct</span>"
      ],
      "text/plain": [
       "Correct"
      ]
     },
     "metadata": {},
     "output_type": "display_data"
    }
   ],
   "source": [
    "# Fill in the line below: get names of columns with missing values\n",
    "____ # Your code here\n",
    "cols_with_missing = [col for col in X_train.columns\n",
    "                     if X_train[col].isnull().any()]\n",
    "# Fill in the lines below: drop columns in training and validation data\n",
    "reduced_X_train = X_train.drop(cols_with_missing, axis=1)\n",
    "reduced_X_valid = X_valid.drop(cols_with_missing, axis=1) \n",
    "\n",
    "# Check your answers\n",
    "step_2.check()"
   ]
  },
  {
   "cell_type": "code",
   "execution_count": 11,
   "id": "1742e869",
   "metadata": {
    "execution": {
     "iopub.execute_input": "2023-06-29T15:01:41.442928Z",
     "iopub.status.busy": "2023-06-29T15:01:41.442538Z",
     "iopub.status.idle": "2023-06-29T15:01:41.447149Z",
     "shell.execute_reply": "2023-06-29T15:01:41.446141Z"
    },
    "papermill": {
     "duration": 0.021072,
     "end_time": "2023-06-29T15:01:41.449360",
     "exception": false,
     "start_time": "2023-06-29T15:01:41.428288",
     "status": "completed"
    },
    "tags": []
   },
   "outputs": [],
   "source": [
    "# Lines below will give you a hint or solution code\n",
    "#step_2.hint()\n",
    "#step_2.solution()"
   ]
  },
  {
   "cell_type": "markdown",
   "id": "661424f5",
   "metadata": {
    "papermill": {
     "duration": 0.012808,
     "end_time": "2023-06-29T15:01:41.475260",
     "exception": false,
     "start_time": "2023-06-29T15:01:41.462452",
     "status": "completed"
    },
    "tags": []
   },
   "source": [
    "Run the next code cell without changes to obtain the MAE for this approach."
   ]
  },
  {
   "cell_type": "code",
   "execution_count": 12,
   "id": "3273aef3",
   "metadata": {
    "execution": {
     "iopub.execute_input": "2023-06-29T15:01:41.503622Z",
     "iopub.status.busy": "2023-06-29T15:01:41.502787Z",
     "iopub.status.idle": "2023-06-29T15:01:42.861078Z",
     "shell.execute_reply": "2023-06-29T15:01:42.859938Z"
    },
    "papermill": {
     "duration": 1.375624,
     "end_time": "2023-06-29T15:01:42.864042",
     "exception": false,
     "start_time": "2023-06-29T15:01:41.488418",
     "status": "completed"
    },
    "tags": []
   },
   "outputs": [
    {
     "name": "stdout",
     "output_type": "stream",
     "text": [
      "MAE (Drop columns with missing values):\n",
      "17837.82570776256\n"
     ]
    }
   ],
   "source": [
    "print(\"MAE (Drop columns with missing values):\")\n",
    "print(score_dataset(reduced_X_train, reduced_X_valid, y_train, y_valid))"
   ]
  },
  {
   "cell_type": "markdown",
   "id": "13ae1912",
   "metadata": {
    "papermill": {
     "duration": 0.012798,
     "end_time": "2023-06-29T15:01:42.890233",
     "exception": false,
     "start_time": "2023-06-29T15:01:42.877435",
     "status": "completed"
    },
    "tags": []
   },
   "source": [
    "# Step 3: Imputation\n",
    "\n",
    "### Part A\n",
    "\n",
    "Use the next code cell to impute missing values with the mean value along each column.  Set the preprocessed DataFrames to `imputed_X_train` and `imputed_X_valid`.  Make sure that the column names match those in `X_train` and `X_valid`."
   ]
  },
  {
   "cell_type": "code",
   "execution_count": 13,
   "id": "5a728f68",
   "metadata": {
    "execution": {
     "iopub.execute_input": "2023-06-29T15:01:42.918957Z",
     "iopub.status.busy": "2023-06-29T15:01:42.918524Z",
     "iopub.status.idle": "2023-06-29T15:01:42.960271Z",
     "shell.execute_reply": "2023-06-29T15:01:42.959145Z"
    },
    "papermill": {
     "duration": 0.058863,
     "end_time": "2023-06-29T15:01:42.962650",
     "exception": false,
     "start_time": "2023-06-29T15:01:42.903787",
     "status": "completed"
    },
    "tags": []
   },
   "outputs": [
    {
     "data": {
      "application/javascript": [
       "parent.postMessage({\"jupyterEvent\": \"custom.exercise_interaction\", \"data\": {\"outcomeType\": 1, \"valueTowardsCompletion\": 1.0, \"interactionType\": 1, \"questionType\": 2, \"questionId\": \"3.1_ImputeCode\", \"learnToolsVersion\": \"0.3.4\", \"failureMessage\": \"\", \"exceptionClass\": \"\", \"trace\": \"\"}}, \"*\")"
      ],
      "text/plain": [
       "<IPython.core.display.Javascript object>"
      ]
     },
     "metadata": {},
     "output_type": "display_data"
    },
    {
     "data": {
      "text/markdown": [
       "<span style=\"color:#33cc33\">Correct</span>"
      ],
      "text/plain": [
       "Correct"
      ]
     },
     "metadata": {},
     "output_type": "display_data"
    }
   ],
   "source": [
    "from sklearn.impute import SimpleImputer\n",
    "my_imputer = SimpleImputer()\n",
    "# Fill in the lines below: imputation\n",
    "____ # Your code here\n",
    "imputed_X_train = pd.DataFrame(my_imputer.fit_transform(X_train))\n",
    "imputed_X_valid = pd.DataFrame(my_imputer.transform(X_valid))\n",
    "# Fill in the lines below: imputation removed column names; put them back\n",
    "imputed_X_train.columns = X_train.columns\n",
    "imputed_X_valid.columns = X_valid.columns\n",
    "\n",
    "# Check your answers\n",
    "step_3.a.check()"
   ]
  },
  {
   "cell_type": "code",
   "execution_count": 14,
   "id": "d911d8e9",
   "metadata": {
    "execution": {
     "iopub.execute_input": "2023-06-29T15:01:42.991219Z",
     "iopub.status.busy": "2023-06-29T15:01:42.990793Z",
     "iopub.status.idle": "2023-06-29T15:01:42.995923Z",
     "shell.execute_reply": "2023-06-29T15:01:42.994553Z"
    },
    "papermill": {
     "duration": 0.022186,
     "end_time": "2023-06-29T15:01:42.998234",
     "exception": false,
     "start_time": "2023-06-29T15:01:42.976048",
     "status": "completed"
    },
    "tags": []
   },
   "outputs": [],
   "source": [
    "# Lines below will give you a hint or solution code\n",
    "#step_3.a.hint()\n",
    "#step_3.a.solution()"
   ]
  },
  {
   "cell_type": "markdown",
   "id": "12579d2c",
   "metadata": {
    "papermill": {
     "duration": 0.013099,
     "end_time": "2023-06-29T15:01:43.025117",
     "exception": false,
     "start_time": "2023-06-29T15:01:43.012018",
     "status": "completed"
    },
    "tags": []
   },
   "source": [
    "Run the next code cell without changes to obtain the MAE for this approach."
   ]
  },
  {
   "cell_type": "code",
   "execution_count": 15,
   "id": "3b7fe813",
   "metadata": {
    "execution": {
     "iopub.execute_input": "2023-06-29T15:01:43.053933Z",
     "iopub.status.busy": "2023-06-29T15:01:43.053505Z",
     "iopub.status.idle": "2023-06-29T15:01:44.483930Z",
     "shell.execute_reply": "2023-06-29T15:01:44.482748Z"
    },
    "papermill": {
     "duration": 1.447838,
     "end_time": "2023-06-29T15:01:44.486513",
     "exception": false,
     "start_time": "2023-06-29T15:01:43.038675",
     "status": "completed"
    },
    "tags": []
   },
   "outputs": [
    {
     "name": "stdout",
     "output_type": "stream",
     "text": [
      "MAE (Imputation):\n",
      "18062.894611872147\n"
     ]
    }
   ],
   "source": [
    "print(\"MAE (Imputation):\")\n",
    "print(score_dataset(imputed_X_train, imputed_X_valid, y_train, y_valid))"
   ]
  },
  {
   "cell_type": "markdown",
   "id": "3b674c60",
   "metadata": {
    "papermill": {
     "duration": 0.014436,
     "end_time": "2023-06-29T15:01:44.515179",
     "exception": false,
     "start_time": "2023-06-29T15:01:44.500743",
     "status": "completed"
    },
    "tags": []
   },
   "source": [
    "### Part B\n",
    "\n",
    "Compare the MAE from each approach.  Does anything surprise you about the results?  Why do you think one approach performed better than the other?"
   ]
  },
  {
   "cell_type": "code",
   "execution_count": 16,
   "id": "252b566c",
   "metadata": {
    "execution": {
     "iopub.execute_input": "2023-06-29T15:01:44.544555Z",
     "iopub.status.busy": "2023-06-29T15:01:44.543561Z",
     "iopub.status.idle": "2023-06-29T15:01:44.552014Z",
     "shell.execute_reply": "2023-06-29T15:01:44.551034Z"
    },
    "papermill": {
     "duration": 0.025279,
     "end_time": "2023-06-29T15:01:44.554097",
     "exception": false,
     "start_time": "2023-06-29T15:01:44.528818",
     "status": "completed"
    },
    "tags": []
   },
   "outputs": [
    {
     "data": {
      "application/javascript": [
       "parent.postMessage({\"jupyterEvent\": \"custom.exercise_interaction\", \"data\": {\"outcomeType\": 1, \"valueTowardsCompletion\": 1.0, \"interactionType\": 1, \"questionType\": 4, \"questionId\": \"3.2_ImputeThought\", \"learnToolsVersion\": \"0.3.4\", \"failureMessage\": \"\", \"exceptionClass\": \"\", \"trace\": \"\"}}, \"*\")"
      ],
      "text/plain": [
       "<IPython.core.display.Javascript object>"
      ]
     },
     "metadata": {},
     "output_type": "display_data"
    },
    {
     "data": {
      "text/markdown": [
       "<span style=\"color:#33cc33\">Correct:</span> \n",
       "\n",
       "Given that thre are so few missing values in the dataset, we'd expect imputation to perform better than dropping columns entirely.  However, we see that dropping columns performs slightly better!  While this can probably partially be attributed to noise in the dataset, another potential explanation is that the imputation method is not a great match to this dataset.  That is, maybe instead of filling in the mean value, it makes more sense to set every missing value to a value of 0, to fill in the most frequently encountered value, or to use some other method.  For instance, consider the `GarageYrBlt` column (which indicates the year that the garage was built).  It's likely that in some cases, a missing value could indicate a house that does not have a garage.  Does it make more sense to fill in the median value along each column in this case?  Or could we get better results by filling in the minimum value along each column?  It's not quite clear what's best in this case, but perhaps we can rule out some options immediately - for instance, setting missing values in this column to 0 is likely to yield horrible results!"
      ],
      "text/plain": [
       "Correct: \n",
       "\n",
       "Given that thre are so few missing values in the dataset, we'd expect imputation to perform better than dropping columns entirely.  However, we see that dropping columns performs slightly better!  While this can probably partially be attributed to noise in the dataset, another potential explanation is that the imputation method is not a great match to this dataset.  That is, maybe instead of filling in the mean value, it makes more sense to set every missing value to a value of 0, to fill in the most frequently encountered value, or to use some other method.  For instance, consider the `GarageYrBlt` column (which indicates the year that the garage was built).  It's likely that in some cases, a missing value could indicate a house that does not have a garage.  Does it make more sense to fill in the median value along each column in this case?  Or could we get better results by filling in the minimum value along each column?  It's not quite clear what's best in this case, but perhaps we can rule out some options immediately - for instance, setting missing values in this column to 0 is likely to yield horrible results!"
      ]
     },
     "metadata": {},
     "output_type": "display_data"
    }
   ],
   "source": [
    "# Check your answer (Run this code cell to receive credit!)\n",
    "step_3.b.check()"
   ]
  },
  {
   "cell_type": "code",
   "execution_count": 17,
   "id": "db13f786",
   "metadata": {
    "execution": {
     "iopub.execute_input": "2023-06-29T15:01:44.583786Z",
     "iopub.status.busy": "2023-06-29T15:01:44.583408Z",
     "iopub.status.idle": "2023-06-29T15:01:44.587991Z",
     "shell.execute_reply": "2023-06-29T15:01:44.586881Z"
    },
    "papermill": {
     "duration": 0.02198,
     "end_time": "2023-06-29T15:01:44.590097",
     "exception": false,
     "start_time": "2023-06-29T15:01:44.568117",
     "status": "completed"
    },
    "tags": []
   },
   "outputs": [],
   "source": [
    "#step_3.b.hint()"
   ]
  },
  {
   "cell_type": "markdown",
   "id": "792fcc95",
   "metadata": {
    "papermill": {
     "duration": 0.013564,
     "end_time": "2023-06-29T15:01:44.617826",
     "exception": false,
     "start_time": "2023-06-29T15:01:44.604262",
     "status": "completed"
    },
    "tags": []
   },
   "source": [
    "# Step 4: Generate test predictions\n",
    "\n",
    "In this final step, you'll use any approach of your choosing to deal with missing values.  Once you've preprocessed the training and validation features, you'll train and evaluate a random forest model.  Then, you'll preprocess the test data before generating predictions that can be submitted to the competition!\n",
    "\n",
    "### Part A\n",
    "\n",
    "Use the next code cell to preprocess the training and validation data.  Set the preprocessed DataFrames to `final_X_train` and `final_X_valid`.  **You can use any approach of your choosing here!**  in order for this step to be marked as correct, you need only ensure:\n",
    "- the preprocessed DataFrames have the same number of columns,\n",
    "- the preprocessed DataFrames have no missing values, \n",
    "- `final_X_train` and `y_train` have the same number of rows, and\n",
    "- `final_X_valid` and `y_valid` have the same number of rows."
   ]
  },
  {
   "cell_type": "code",
   "execution_count": 18,
   "id": "4aca3b3b",
   "metadata": {
    "execution": {
     "iopub.execute_input": "2023-06-29T15:01:44.648129Z",
     "iopub.status.busy": "2023-06-29T15:01:44.647018Z",
     "iopub.status.idle": "2023-06-29T15:01:44.680546Z",
     "shell.execute_reply": "2023-06-29T15:01:44.679431Z"
    },
    "papermill": {
     "duration": 0.050949,
     "end_time": "2023-06-29T15:01:44.682784",
     "exception": false,
     "start_time": "2023-06-29T15:01:44.631835",
     "status": "completed"
    },
    "tags": []
   },
   "outputs": [
    {
     "data": {
      "application/javascript": [
       "parent.postMessage({\"jupyterEvent\": \"custom.exercise_interaction\", \"data\": {\"outcomeType\": 1, \"valueTowardsCompletion\": 1.0, \"interactionType\": 1, \"questionType\": 2, \"questionId\": \"4.1_PredsCodeA\", \"learnToolsVersion\": \"0.3.4\", \"failureMessage\": \"\", \"exceptionClass\": \"\", \"trace\": \"\"}}, \"*\")"
      ],
      "text/plain": [
       "<IPython.core.display.Javascript object>"
      ]
     },
     "metadata": {},
     "output_type": "display_data"
    },
    {
     "data": {
      "text/markdown": [
       "<span style=\"color:#33cc33\">Correct</span>"
      ],
      "text/plain": [
       "Correct"
      ]
     },
     "metadata": {},
     "output_type": "display_data"
    }
   ],
   "source": [
    "# Preprocessed training and validation features\n",
    "final_imputer = SimpleImputer(strategy='median')\n",
    "final_X_train = pd.DataFrame(final_imputer.fit_transform(X_train))\n",
    "final_X_valid = pd.DataFrame(final_imputer.transform(X_valid))\n",
    "\n",
    "final_X_train.columns = X_train.columns\n",
    "final_X_valid.columns = X_valid.columns\n",
    "# Check your answers\n",
    "step_4.a.check()"
   ]
  },
  {
   "cell_type": "code",
   "execution_count": 19,
   "id": "d373dac0",
   "metadata": {
    "execution": {
     "iopub.execute_input": "2023-06-29T15:01:44.713624Z",
     "iopub.status.busy": "2023-06-29T15:01:44.713215Z",
     "iopub.status.idle": "2023-06-29T15:01:44.718062Z",
     "shell.execute_reply": "2023-06-29T15:01:44.716932Z"
    },
    "papermill": {
     "duration": 0.023267,
     "end_time": "2023-06-29T15:01:44.720381",
     "exception": false,
     "start_time": "2023-06-29T15:01:44.697114",
     "status": "completed"
    },
    "tags": []
   },
   "outputs": [],
   "source": [
    "# Lines below will give you a hint or solution code\n",
    "#step_4.a.hint()\n",
    "#step_4.a.solution()"
   ]
  },
  {
   "cell_type": "markdown",
   "id": "49929d8c",
   "metadata": {
    "papermill": {
     "duration": 0.014576,
     "end_time": "2023-06-29T15:01:44.749415",
     "exception": false,
     "start_time": "2023-06-29T15:01:44.734839",
     "status": "completed"
    },
    "tags": []
   },
   "source": [
    "Run the next code cell to train and evaluate a random forest model.  (*Note that we don't use the `score_dataset()` function above, because we will soon use the trained model to generate test predictions!*)"
   ]
  },
  {
   "cell_type": "code",
   "execution_count": 20,
   "id": "482c77c8",
   "metadata": {
    "execution": {
     "iopub.execute_input": "2023-06-29T15:01:44.781050Z",
     "iopub.status.busy": "2023-06-29T15:01:44.780602Z",
     "iopub.status.idle": "2023-06-29T15:01:46.238258Z",
     "shell.execute_reply": "2023-06-29T15:01:46.237019Z"
    },
    "papermill": {
     "duration": 1.477296,
     "end_time": "2023-06-29T15:01:46.241002",
     "exception": false,
     "start_time": "2023-06-29T15:01:44.763706",
     "status": "completed"
    },
    "tags": []
   },
   "outputs": [
    {
     "name": "stdout",
     "output_type": "stream",
     "text": [
      "MAE (Your approach):\n",
      "17791.59899543379\n"
     ]
    }
   ],
   "source": [
    "# Define and fit model\n",
    "model = RandomForestRegressor(n_estimators=100, random_state=0)\n",
    "model.fit(final_X_train, y_train)\n",
    "\n",
    "# Get validation predictions and MAE\n",
    "preds_valid = model.predict(final_X_valid)\n",
    "print(\"MAE (Your approach):\")\n",
    "print(mean_absolute_error(y_valid, preds_valid))"
   ]
  },
  {
   "cell_type": "markdown",
   "id": "87a6f5d2",
   "metadata": {
    "papermill": {
     "duration": 0.01414,
     "end_time": "2023-06-29T15:01:46.269931",
     "exception": false,
     "start_time": "2023-06-29T15:01:46.255791",
     "status": "completed"
    },
    "tags": []
   },
   "source": [
    "### Part B\n",
    "\n",
    "Use the next code cell to preprocess your test data.  Make sure that you use a method that agrees with how you preprocessed the training and validation data, and set the preprocessed test features to `final_X_test`.\n",
    "\n",
    "Then, use the preprocessed test features and the trained model to generate test predictions in `preds_test`.\n",
    "\n",
    "In order for this step to be marked correct, you need only ensure:\n",
    "- the preprocessed test DataFrame has no missing values, and\n",
    "- `final_X_test` has the same number of rows as `X_test`."
   ]
  },
  {
   "cell_type": "code",
   "execution_count": 21,
   "id": "2966dd77",
   "metadata": {
    "execution": {
     "iopub.execute_input": "2023-06-29T15:01:46.300627Z",
     "iopub.status.busy": "2023-06-29T15:01:46.300243Z",
     "iopub.status.idle": "2023-06-29T15:01:46.360173Z",
     "shell.execute_reply": "2023-06-29T15:01:46.358858Z"
    },
    "papermill": {
     "duration": 0.078152,
     "end_time": "2023-06-29T15:01:46.362575",
     "exception": false,
     "start_time": "2023-06-29T15:01:46.284423",
     "status": "completed"
    },
    "tags": []
   },
   "outputs": [
    {
     "name": "stderr",
     "output_type": "stream",
     "text": [
      "/opt/conda/lib/python3.10/site-packages/sklearn/base.py:439: UserWarning: X does not have valid feature names, but RandomForestRegressor was fitted with feature names\n",
      "  warnings.warn(\n"
     ]
    },
    {
     "data": {
      "application/javascript": [
       "parent.postMessage({\"jupyterEvent\": \"custom.exercise_interaction\", \"data\": {\"outcomeType\": 1, \"valueTowardsCompletion\": 1.0, \"interactionType\": 1, \"questionType\": 2, \"questionId\": \"4.2_PredsCodeB\", \"learnToolsVersion\": \"0.3.4\", \"failureMessage\": \"\", \"exceptionClass\": \"\", \"trace\": \"\"}}, \"*\")"
      ],
      "text/plain": [
       "<IPython.core.display.Javascript object>"
      ]
     },
     "metadata": {},
     "output_type": "display_data"
    },
    {
     "data": {
      "text/markdown": [
       "<span style=\"color:#33cc33\">Correct</span>"
      ],
      "text/plain": [
       "Correct"
      ]
     },
     "metadata": {},
     "output_type": "display_data"
    }
   ],
   "source": [
    "# Fill in the line below: preprocess test data\n",
    "final_X_test = pd.DataFrame(final_imputer.transform(X_test))\n",
    "\n",
    "# Fill in the line below: get test predictions\n",
    "preds_test = model.predict(final_X_test)\n",
    "\n",
    "# Check your answers\n",
    "step_4.b.check()"
   ]
  },
  {
   "cell_type": "code",
   "execution_count": 22,
   "id": "6dc00323",
   "metadata": {
    "execution": {
     "iopub.execute_input": "2023-06-29T15:01:46.394522Z",
     "iopub.status.busy": "2023-06-29T15:01:46.394141Z",
     "iopub.status.idle": "2023-06-29T15:01:46.398080Z",
     "shell.execute_reply": "2023-06-29T15:01:46.397277Z"
    },
    "papermill": {
     "duration": 0.022336,
     "end_time": "2023-06-29T15:01:46.400089",
     "exception": false,
     "start_time": "2023-06-29T15:01:46.377753",
     "status": "completed"
    },
    "tags": []
   },
   "outputs": [],
   "source": [
    "# Lines below will give you a hint or solution code\n",
    "#step_4.b.hint()\n",
    "#step_4.b.solution()"
   ]
  },
  {
   "cell_type": "markdown",
   "id": "7aa1a48a",
   "metadata": {
    "papermill": {
     "duration": 0.014567,
     "end_time": "2023-06-29T15:01:46.429563",
     "exception": false,
     "start_time": "2023-06-29T15:01:46.414996",
     "status": "completed"
    },
    "tags": []
   },
   "source": [
    "Run the next code cell without changes to save your results to a CSV file that can be submitted directly to the competition."
   ]
  },
  {
   "cell_type": "code",
   "execution_count": 23,
   "id": "8ff6329c",
   "metadata": {
    "execution": {
     "iopub.execute_input": "2023-06-29T15:01:46.461694Z",
     "iopub.status.busy": "2023-06-29T15:01:46.461318Z",
     "iopub.status.idle": "2023-06-29T15:01:46.477494Z",
     "shell.execute_reply": "2023-06-29T15:01:46.476603Z"
    },
    "papermill": {
     "duration": 0.034852,
     "end_time": "2023-06-29T15:01:46.479742",
     "exception": false,
     "start_time": "2023-06-29T15:01:46.444890",
     "status": "completed"
    },
    "tags": []
   },
   "outputs": [],
   "source": [
    "# Save test predictions to file\n",
    "output = pd.DataFrame({'Id': X_test.index,\n",
    "                       'SalePrice': preds_test})\n",
    "output.to_csv('submission.csv', index=False)"
   ]
  },
  {
   "cell_type": "markdown",
   "id": "dae57ba0",
   "metadata": {
    "papermill": {
     "duration": 0.014595,
     "end_time": "2023-06-29T15:01:46.509333",
     "exception": false,
     "start_time": "2023-06-29T15:01:46.494738",
     "status": "completed"
    },
    "tags": []
   },
   "source": [
    "# Submit your results\n",
    "\n",
    "Once you have successfully completed Step 4, you're ready to submit your results to the leaderboard!  (_You also learned how to do this in the previous exercise.  If you need a reminder of how to do this, please use the instructions below._)  \n",
    "\n",
    "First, you'll need to join the competition if you haven't already.  So open a new window by clicking on [this link](https://www.kaggle.com/c/home-data-for-ml-course).  Then click on the **Join Competition** button.\n",
    "\n",
    "![join competition image](https://storage.googleapis.com/kaggle-media/learn/images/wLmFtH3.png)\n",
    "\n",
    "Next, follow the instructions below:\n",
    "1. Begin by clicking on the **Save Version** button in the top right corner of the window.  This will generate a pop-up window.  \n",
    "2. Ensure that the **Save and Run All** option is selected, and then click on the **Save** button.\n",
    "3. This generates a window in the bottom left corner of the notebook.  After it has finished running, click on the number to the right of the **Save Version** button.  This pulls up a list of versions on the right of the screen.  Click on the ellipsis **(...)** to the right of the most recent version, and select **Open in Viewer**.  This brings you into view mode of the same page. You will need to scroll down to get back to these instructions.\n",
    "4. Click on the **Data** tab near the top of the screen.  Then, click on the file you would like to submit, and click on the **Submit** button to submit your results to the leaderboard.\n",
    "\n",
    "You have now successfully submitted to the competition!\n",
    "\n",
    "If you want to keep working to improve your performance, select the **Edit** button in the top right of the screen. Then you can change your code and repeat the process. There's a lot of room to improve, and you will climb up the leaderboard as you work.\n",
    "\n",
    "\n",
    "# Keep going\n",
    "\n",
    "Move on to learn what **[categorical variables](https://www.kaggle.com/alexisbcook/categorical-variables)** are, along with how to incorporate them into your machine learning models.  Categorical variables are very common in real-world data, but you'll get an error if you try to plug them into your models without processing them first!"
   ]
  },
  {
   "cell_type": "markdown",
   "id": "b1b3e9c2",
   "metadata": {
    "papermill": {
     "duration": 0.014463,
     "end_time": "2023-06-29T15:01:46.538609",
     "exception": false,
     "start_time": "2023-06-29T15:01:46.524146",
     "status": "completed"
    },
    "tags": []
   },
   "source": [
    "---\n",
    "\n",
    "\n",
    "\n",
    "\n",
    "*Have questions or comments? Visit the [course discussion forum](https://www.kaggle.com/learn/intermediate-machine-learning/discussion) to chat with other learners.*"
   ]
  }
 ],
 "metadata": {
  "kernelspec": {
   "display_name": "Python 3",
   "language": "python",
   "name": "python3"
  },
  "language_info": {
   "codemirror_mode": {
    "name": "ipython",
    "version": 3
   },
   "file_extension": ".py",
   "mimetype": "text/x-python",
   "name": "python",
   "nbconvert_exporter": "python",
   "pygments_lexer": "ipython3",
   "version": "3.10.10"
  },
  "papermill": {
   "default_parameters": {},
   "duration": 20.428378,
   "end_time": "2023-06-29T15:01:47.474784",
   "environment_variables": {},
   "exception": null,
   "input_path": "__notebook__.ipynb",
   "output_path": "__notebook__.ipynb",
   "parameters": {},
   "start_time": "2023-06-29T15:01:27.046406",
   "version": "2.4.0"
  }
 },
 "nbformat": 4,
 "nbformat_minor": 5
}
